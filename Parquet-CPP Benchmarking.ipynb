{
 "cells": [
  {
   "cell_type": "markdown",
   "id": "87c99ffc-a843-4077-99ab-18ad993fa62b",
   "metadata": {},
   "source": [
    "# Benchmarking Apache CPP-Parquet\n",
    "## Neelaksh Singh and Corwin Joy "
   ]
  },
  {
   "cell_type": "markdown",
   "id": "b0b061aa-80a7-4c5c-b2d9-342df53d9aae",
   "metadata": {},
   "source": [
    "### MLH project in collaboration with G-Research to benchmark Apache CPP-Parquet performance "
   ]
  },
  {
   "cell_type": "markdown",
   "id": "95b9557d-da85-4326-9878-6316237bb990",
   "metadata": {},
   "source": [
    "This repository contains reproducible code for benchmarking Apache Parquet on multiple dimensions, in order to get an idea of the performance of Parquet for machine learning workloads."
   ]
  },
  {
   "cell_type": "markdown",
   "id": "604fd092-76da-4972-8e02-8e01002ae06f",
   "metadata": {},
   "source": [
    "The motivation is to make parquet files with many thousands of columns efficient to read. \n",
    "\n",
    "Currently, reading such files is prohibitively expensive because fetching and parsing the metadata takes considerable time. The current serialization scheme for parquet metadata is too slow to be parsed efficiently.\n"
   ]
  },
  {
   "cell_type": "markdown",
   "id": "d00b0acb-d8bd-4850-96b1-fe9b44b59766",
   "metadata": {},
   "source": [
    "Thus, we quantify the metadata overhead of Apache Parquet files for storing thousands of columns, as well as space and decode time for the page data using Apache CPP-Parquet."
   ]
  },
  {
   "cell_type": "markdown",
   "id": "9e5f973c-5de9-476e-a023-58fe77c95909",
   "metadata": {
    "jp-MarkdownHeadingCollapsed": true
   },
   "source": [
    "#### Motivation"
   ]
  },
  {
   "cell_type": "markdown",
   "id": "f6e354c1-9c6f-4966-acf8-be687cdbcaa7",
   "metadata": {},
   "source": [
    "Many recent claims suggest that Parquet is unsuitable for wide tables with thousands of columns, which are common in machine learning workloads. These claims often come alongside proposals for new file formats (such as BtrBlocks, Lance V2, and Nimble1).\n",
    "\n",
    "The main argument is that wide tables have \"large\" metadata, which reportedly takes a \"long time\" to decode, often longer than reading the actual data. The use of Apache Thrift for metadata storage means the entire metadata must be decoded for each file, even when only a few columns are needed. There's also a tendency to conflate Parquet (the format) with specific Parquet implementations (e.g., parquet-java) when assessing performance.\n",
    "\n",
    "While many query systems cache Parquet metadata information in a form suited for faster processing, we sought quantitative data to determine how much of the supposed metadata overhead is due to limitations in the Parquet format vs. how much is due to less optimized implementations or poorly configured settings of Parquet writers."
   ]
  },
  {
   "cell_type": "markdown",
   "id": "6e2d8590-28f3-4460-93e4-70596c1c1197",
   "metadata": {},
   "source": [
    "## Setting up the Project\n",
    "\n",
    "To set up the project and build the necessary C++ files for benchmarking Parquet, we have a `setup.sh` script that automates the following steps:\n",
    "\n",
    "1. Download the vcpkg repository from GitHub.\n",
    "2. Install Apache Arrow and Parquet using vcpkg.\n",
    "3. Configure the project using CMake.\n",
    "4. Build the project.\n",
    "\n",
    "Follow these steps to make the script executable and run it:"
   ]
  },
  {
   "cell_type": "code",
   "id": "0999cd72-c367-4a7a-b33e-5cb368ea627d",
   "metadata": {
    "ExecuteTime": {
     "end_time": "2024-07-18T02:29:31.582265Z",
     "start_time": "2024-07-18T02:29:31.573582Z"
    }
   },
   "source": [
    "import os\n",
    "\n",
    "# Make the setup.sh script executable\n",
    "os.chmod(\"./setup.sh\", 0o755)\n",
    "\n",
    "# Run the setup.sh script\n",
    "os.system(\"./setup.sh\")\n",
    "\n",
    "# Set the working directory\n",
    "os.chdir(\"./temp\")"
   ],
   "outputs": [
    {
     "ename": "FileNotFoundError",
     "evalue": "[Errno 2] No such file or directory: 'setup.sh'",
     "output_type": "error",
     "traceback": [
      "\u001B[0;31m---------------------------------------------------------------------------\u001B[0m",
      "\u001B[0;31mFileNotFoundError\u001B[0m                         Traceback (most recent call last)",
      "Cell \u001B[0;32mIn[11], line 4\u001B[0m\n\u001B[1;32m      1\u001B[0m \u001B[38;5;28;01mimport\u001B[39;00m \u001B[38;5;21;01mos\u001B[39;00m\n\u001B[1;32m      3\u001B[0m \u001B[38;5;66;03m# Make the setup.sh script executable\u001B[39;00m\n\u001B[0;32m----> 4\u001B[0m os\u001B[38;5;241m.\u001B[39mchmod(\u001B[38;5;124m\"\u001B[39m\u001B[38;5;124msetup.sh\u001B[39m\u001B[38;5;124m\"\u001B[39m, \u001B[38;5;241m0o755\u001B[39m)\n\u001B[1;32m      6\u001B[0m \u001B[38;5;66;03m# Run the setup.sh script\u001B[39;00m\n\u001B[1;32m      7\u001B[0m os\u001B[38;5;241m.\u001B[39msystem(\u001B[38;5;124m\"\u001B[39m\u001B[38;5;124m./setup.sh\u001B[39m\u001B[38;5;124m\"\u001B[39m)\n",
      "\u001B[0;31mFileNotFoundError\u001B[0m: [Errno 2] No such file or directory: 'setup.sh'"
     ]
    }
   ],
   "execution_count": 11
  },
  {
   "cell_type": "markdown",
   "id": "44c2289b-ad2d-4bc0-8337-65e45f35769b",
   "metadata": {},
   "source": [
    "Here's a breakdown of what the `setup.sh` script does:\n",
    "\n",
    "1. **Download vcpkg**: The script clones the vcpkg repository from GitHub. vcpkg is a cross-platform package manager that simplifies the process of installing and managing C++ libraries.\n",
    "\n",
    "2. **Install Apache Arrow and Parquet**: Using vcpkg, the script installs the Apache Arrow and Parquet libraries. These libraries provide the necessary tools and APIs for working with Parquet files in C++.\n",
    "\n",
    "3. **Configure the project with CMake**: The script uses CMake to configure the project. CMake is a build system generator that helps manage the build process of the project. It generates the necessary build files based on the project's configuration.\n",
    "\n",
    "4. **Build the project**: Finally, the script triggers the build process using the generated build files. This step compiles the C++ source files and links them with the required libraries, creating the executable for benchmarking Parquet.\n",
    "\n",
    "By running the `setup.sh` script using Python's `os` module, as shown in the code snippet above, the entire setup process is automated. The script takes care of downloading the necessary dependencies, configuring the project, and building it.\n",
    "\n",
    "After the script completes successfully, your project will be set up and ready for benchmarking Parquet using C++."
   ]
  },
  {
   "cell_type": "markdown",
   "id": "00fd92f0-9b4f-4f2e-ab13-8c25a2458a22",
   "metadata": {},
   "source": [
    "*Note*: The files for benchmarking are present in <b>/src</b> and files for visualization is present in <b>/scripts</b>"
   ]
  },
  {
   "cell_type": "markdown",
   "id": "0468dd14-46d3-408b-9d16-02ef03b0cccf",
   "metadata": {},
   "source": [
    "## Metadata Size and Decode Time"
   ]
  },
  {
   "cell_type": "markdown",
   "id": "113a3af2-c911-4fc0-88fd-d7626c7c3440",
   "metadata": {},
   "source": [
    "Parquet files include the metadata required to interpret the file. This metadata also instructs the reader to load only the portion of the file necessary to answer queries. \n",
    "\n",
    "The metadata is encoded in the Apache Thrift format, which requires Parquet readers to fetch and potentially examine the entire metadata footer before reading any content."
   ]
  },
  {
   "cell_type": "markdown",
   "id": "4b79e0de-5506-4798-a9e8-bd617a242698",
   "metadata": {},
   "source": "### Code Structure"
  },
  {
   "cell_type": "markdown",
   "id": "4491d245-591b-46de-835e-e216fd7b32de",
   "metadata": {},
   "source": [
    "#### File Structure and Purpose \n",
    "\n",
    "We've created three main files for this benchmarking project:\n",
    "\n",
    "1. `arrow_benchmarks.h`: This header file defines the structure for our benchmark results and declares the functions we'll use for benchmarking and writing results.\n",
    "\n",
    "2. `arrow_benchmarks.cpp`: This is our main implementation file. It includes the following key components:\n",
    "   - A function to benchmark metadata decoding time and file size for a given Parquet file\n",
    "   - A function to write benchmark results to a CSV file\n",
    "   - A main function that runs benchmarks on Parquet files with varying numbers of columns\n",
    "\n",
    "3. `visualize_decode_and_size.py`: This Python script visualizes the Parquet files we'll use for benchmarking.\n",
    "\n",
    "#### Benchmarking Approach\n",
    "\n",
    "Our approach involves:\n",
    "\n",
    "1. Generating Parquet files with different numbers of columns (10, 100, 1000, 10000) using apache parquet and the arrow library.\n",
    "2. Using C++ with the Arrow and Parquet libraries to measure:\n",
    "   - The time taken to open and decode the metadata of each Parquet file\n",
    "   - The size of each Parquet file\n",
    "3. Writing the results to a CSV file for further analysis\n",
    "4. Visualizing the results\n",
    "\n",
    "This method allows us to empirically measure how metadata decoding time and file size scale with the number of columns, providing insights into Parquet's performance characteristics for wide tables."
   ]
  },
  {
   "cell_type": "code",
   "id": "77667fac-eaa0-4739-b76f-b2c69df48b20",
   "metadata": {
    "ExecuteTime": {
     "end_time": "2024-07-18T02:30:06.170481Z",
     "start_time": "2024-07-18T02:29:31.631173Z"
    }
   },
   "source": [
    "import os\n",
    "import pandas as pd\n",
    "import matplotlib.pyplot as plt\n",
    "\n",
    "# Create benchmark files\n",
    "os.system(\"../build/test_data_generator\")\n",
    "\n",
    "# Run the compiled C++ benchmark program\n",
    "os.system(\"../build/arrow_benchmarks\")\n",
    "\n",
    "data = pd.read_csv('benchmark_decode_and_size.csv')\n",
    "data"
   ],
   "outputs": [
    {
     "name": "stdout",
     "output_type": "stream",
     "text": [
      "Successfully wrote benchmark_float32_10cols.parquet\n",
      "Successfully wrote benchmark_float32_100cols.parquet\n",
      "Successfully wrote benchmark_float32_1000cols.parquet\n",
      "Successfully wrote benchmark_float32_10000cols.parquet\n"
     ]
    },
    {
     "data": {
      "text/plain": [
       "   num_columns  decode_time_ms    size_mb\n",
       "0           10        0.308358    0.55119\n",
       "1          100        0.683820    5.51183\n",
       "2         1000        6.332240   55.12110\n",
       "3        10000       64.352600  551.28400"
      ],
      "text/html": [
       "<div>\n",
       "<style scoped>\n",
       "    .dataframe tbody tr th:only-of-type {\n",
       "        vertical-align: middle;\n",
       "    }\n",
       "\n",
       "    .dataframe tbody tr th {\n",
       "        vertical-align: top;\n",
       "    }\n",
       "\n",
       "    .dataframe thead th {\n",
       "        text-align: right;\n",
       "    }\n",
       "</style>\n",
       "<table border=\"1\" class=\"dataframe\">\n",
       "  <thead>\n",
       "    <tr style=\"text-align: right;\">\n",
       "      <th></th>\n",
       "      <th>num_columns</th>\n",
       "      <th>decode_time_ms</th>\n",
       "      <th>size_mb</th>\n",
       "    </tr>\n",
       "  </thead>\n",
       "  <tbody>\n",
       "    <tr>\n",
       "      <th>0</th>\n",
       "      <td>10</td>\n",
       "      <td>0.308358</td>\n",
       "      <td>0.55119</td>\n",
       "    </tr>\n",
       "    <tr>\n",
       "      <th>1</th>\n",
       "      <td>100</td>\n",
       "      <td>0.683820</td>\n",
       "      <td>5.51183</td>\n",
       "    </tr>\n",
       "    <tr>\n",
       "      <th>2</th>\n",
       "      <td>1000</td>\n",
       "      <td>6.332240</td>\n",
       "      <td>55.12110</td>\n",
       "    </tr>\n",
       "    <tr>\n",
       "      <th>3</th>\n",
       "      <td>10000</td>\n",
       "      <td>64.352600</td>\n",
       "      <td>551.28400</td>\n",
       "    </tr>\n",
       "  </tbody>\n",
       "</table>\n",
       "</div>"
      ]
     },
     "execution_count": 12,
     "metadata": {},
     "output_type": "execute_result"
    }
   ],
   "execution_count": 12
  },
  {
   "cell_type": "code",
   "id": "bd4ded8f-be93-4a78-8785-5bd8860f968a",
   "metadata": {
    "ExecuteTime": {
     "end_time": "2024-07-18T02:30:06.657965Z",
     "start_time": "2024-07-18T02:30:06.171385Z"
    }
   },
   "source": [
    "from IPython.display import Image\n",
    "def plot_benchmarks(data):\n",
    "    fig, (ax1, ax2) = plt.subplots(1, 2, figsize=(15, 6))\n",
    "\n",
    "    ax1.plot(data['num_columns'], data['decode_time_ms'], marker='o')\n",
    "    ax1.set_xscale('log')\n",
    "    ax1.set_yscale('log')\n",
    "    ax1.set_xlabel('Number of columns')\n",
    "    ax1.set_ylabel('Metadata decode time (ms)')\n",
    "    ax1.set_title('Metadata decode time (trend)')\n",
    "\n",
    "    ax2.plot(data['num_columns'], data['size_mb'], marker='o')\n",
    "    ax2.set_xscale('log')\n",
    "    ax2.set_yscale('log')\n",
    "    ax2.set_xlabel('Number of columns')\n",
    "    ax2.set_ylabel('Metadata size (MB)')\n",
    "    ax2.set_title('Metadata size (trend)')\n",
    "\n",
    "    plt.tight_layout()\n",
    "    plt.savefig('./decode_and_size.png')\n",
    "    plt.close()\n",
    "    \n",
    "plot_benchmarks(data)\n",
    "Image(filename='./decode_and_size.png')"
   ],
   "outputs": [
    {
     "data": {
      "image/png": "[encoded data removed]",
      "text/plain": [
       "<IPython.core.display.Image object>"
      ]
     },
     "execution_count": 13,
     "metadata": {},
     "output_type": "execute_result"
    }
   ],
   "execution_count": 13
  },
  {
   "cell_type": "markdown",
   "id": "c49dbbf6-d117-40b3-98a7-63f378305b40",
   "metadata": {},
   "source": [
    "The plot shows the trends of metadata decode time and metadata size as the number of columns increases. Both the decode time and metadata size exhibit a logarithmic relationship with the number of columns, indicating that they grow sublinearly with the number of columns in the Parquet file.\n",
    "\n",
    "This benchmark helps us understand how the metadata size and decode time scale with the number of columns in a Parquet file, which can be useful for optimizing Parquet file structures and reader performance."
   ]
  },
  {
   "cell_type": "markdown",
   "id": "27032662-8aaa-4670-825f-bec2e1cf4418",
   "metadata": {},
   "source": [
    "## Paging, Chunking and Statistics"
   ]
  },
  {
   "cell_type": "markdown",
   "id": "600dfde9-23c6-4e46-9c27-28e88e13d9e4",
   "metadata": {},
   "source": "### Code Structure"
  },
  {
   "cell_type": "markdown",
   "id": "47eacb39-9d57-461c-9a91-33527bdfe40e",
   "metadata": {
    "jp-MarkdownHeadingCollapsed": true
   },
   "source": [
    "#### File Structure and Purpose\n",
    "\n",
    "Our benchmarking setup consists of two main files:\n",
    "\n",
    "1. `metadata_benchmark.h`: This header file defines the structures for our benchmark results and declares the functions used for benchmarking and writing results.\n",
    "\n",
    "2. `metadata_benchmark.cpp`: This is our main implementation file, containing:\n",
    "   - Functions to benchmark metadata decoding time and file size\n",
    "   - Functions to benchmark statistics decoding time\n",
    "   - A main function that generates test data, runs benchmarks, and writes results\n",
    "\n",
    "#### Benchmarking Approach\n",
    "\n",
    "Our approach involves:\n",
    "\n",
    "1. Generating Parquet files with varying numbers of columns (10, 100, 1000, 10000) and different statistics levels (NONE, CHUNK, PAGE).\n",
    "2. Measuring:\n",
    "   - Total metadata decode time\n",
    "   - Thrift decode time (for file-level metadata)\n",
    "   - Schema building time\n",
    "   - Statistics decode time\n",
    "   - File size\n",
    "3. Writing results to CSV files for further analysis\n",
    "\n",
    "#### Key Components\n",
    "\n",
    "1. `BenchmarkChunksAndPages`: Measures metadata decoding performance.\n",
    "2. `BenchmarkStats`: Measures statistics decoding performance.\n",
    "3. `WriteChunksAndPagesResults` and `WriteStatsBenchmarkResults`: Write benchmark results to CSV files.\n",
    "4. Main function: Orchestrates the benchmark process, including file generation and cleanup."
   ]
  },
  {
   "cell_type": "code",
   "id": "b5baab9e-5b16-4d6e-9e6f-696e1725cbd0",
   "metadata": {
    "ExecuteTime": {
     "end_time": "2024-07-18T02:31:40.825558Z",
     "start_time": "2024-07-18T02:30:06.658591Z"
    }
   },
   "source": [
    "import os\n",
    "from IPython.display import Image\n",
    "\n",
    "# Compile and run the C++ benchmark program\n",
    "os.system(\"../build/metadata_benchmark\")"
   ],
   "outputs": [
    {
     "data": {
      "text/plain": [
       "0"
      ]
     },
     "execution_count": 14,
     "metadata": {},
     "output_type": "execute_result"
    }
   ],
   "execution_count": 14
  },
  {
   "cell_type": "markdown",
   "id": "8ac1b48e-050a-4af7-8e5e-bf20c07eabfd",
   "metadata": {},
   "source": [
    "### Chunks and Paging"
   ]
  },
  {
   "cell_type": "markdown",
   "id": "222f50ba-44fb-42f9-afbb-3d372bf5a757",
   "metadata": {},
   "source": [
    "In this benchmark, we aim to analyze the impact of chunking, paging, and statistics on the performance of Parquet files. We measure the metadata decode time, metadata size, and decode time breakdown for different configurations of chunking, paging, and statistics levels"
   ]
  },
  {
   "cell_type": "code",
   "id": "6a125f14-efde-430d-96a0-48254787ae30",
   "metadata": {
    "ExecuteTime": {
     "end_time": "2024-07-18T02:31:40.859198Z",
     "start_time": "2024-07-18T02:31:40.826345Z"
    }
   },
   "source": [
    "import pandas as pd\n",
    "import matplotlib.pyplot as plt\n",
    "import seaborn as sns\n",
    "\n",
    "# Read the CSV file\n",
    "df = pd.read_csv('benchmark_results.csv')\n",
    "\n",
    "# Convert microseconds to milliseconds\n",
    "time_columns = ['total_decode_time_us', 'thrift_decode_time_us', 'schema_build_time_us']\n",
    "for col in time_columns:\n",
    "    df[col.replace('_us', '_ms')] = df[col] / 1000\n",
    "\n",
    "# Convert bytes to megabytes\n",
    "df['size_mb'] = df['size_bytes'] / (1024 * 1024)\n",
    "\n",
    "# Map stats levels to readable labels\n",
    "stats_map = {0: 'None', 1: 'Chunk', 2: 'Page'}\n",
    "df['stats_level'] = df['stats_level'].map(stats_map)\n",
    "\n",
    "df"
   ],
   "outputs": [
    {
     "ename": "KeyError",
     "evalue": "'total_decode_time_us'",
     "output_type": "error",
     "traceback": [
      "\u001B[0;31m---------------------------------------------------------------------------\u001B[0m",
      "\u001B[0;31mKeyError\u001B[0m                                  Traceback (most recent call last)",
      "File \u001B[0;32m~/anaconda3/lib/python3.11/site-packages/pandas/core/indexes/base.py:3805\u001B[0m, in \u001B[0;36mIndex.get_loc\u001B[0;34m(self, key)\u001B[0m\n\u001B[1;32m   3804\u001B[0m \u001B[38;5;28;01mtry\u001B[39;00m:\n\u001B[0;32m-> 3805\u001B[0m     \u001B[38;5;28;01mreturn\u001B[39;00m \u001B[38;5;28mself\u001B[39m\u001B[38;5;241m.\u001B[39m_engine\u001B[38;5;241m.\u001B[39mget_loc(casted_key)\n\u001B[1;32m   3806\u001B[0m \u001B[38;5;28;01mexcept\u001B[39;00m \u001B[38;5;167;01mKeyError\u001B[39;00m \u001B[38;5;28;01mas\u001B[39;00m err:\n",
      "File \u001B[0;32mindex.pyx:167\u001B[0m, in \u001B[0;36mpandas._libs.index.IndexEngine.get_loc\u001B[0;34m()\u001B[0m\n",
      "File \u001B[0;32mindex.pyx:196\u001B[0m, in \u001B[0;36mpandas._libs.index.IndexEngine.get_loc\u001B[0;34m()\u001B[0m\n",
      "File \u001B[0;32mpandas/_libs/hashtable_class_helper.pxi:7081\u001B[0m, in \u001B[0;36mpandas._libs.hashtable.PyObjectHashTable.get_item\u001B[0;34m()\u001B[0m\n",
      "File \u001B[0;32mpandas/_libs/hashtable_class_helper.pxi:7089\u001B[0m, in \u001B[0;36mpandas._libs.hashtable.PyObjectHashTable.get_item\u001B[0;34m()\u001B[0m\n",
      "\u001B[0;31mKeyError\u001B[0m: 'total_decode_time_us'",
      "\nThe above exception was the direct cause of the following exception:\n",
      "\u001B[0;31mKeyError\u001B[0m                                  Traceback (most recent call last)",
      "Cell \u001B[0;32mIn[15], line 11\u001B[0m\n\u001B[1;32m      9\u001B[0m time_columns \u001B[38;5;241m=\u001B[39m [\u001B[38;5;124m'\u001B[39m\u001B[38;5;124mtotal_decode_time_us\u001B[39m\u001B[38;5;124m'\u001B[39m, \u001B[38;5;124m'\u001B[39m\u001B[38;5;124mthrift_decode_time_us\u001B[39m\u001B[38;5;124m'\u001B[39m, \u001B[38;5;124m'\u001B[39m\u001B[38;5;124mschema_build_time_us\u001B[39m\u001B[38;5;124m'\u001B[39m]\n\u001B[1;32m     10\u001B[0m \u001B[38;5;28;01mfor\u001B[39;00m col \u001B[38;5;129;01min\u001B[39;00m time_columns:\n\u001B[0;32m---> 11\u001B[0m     df[col\u001B[38;5;241m.\u001B[39mreplace(\u001B[38;5;124m'\u001B[39m\u001B[38;5;124m_us\u001B[39m\u001B[38;5;124m'\u001B[39m, \u001B[38;5;124m'\u001B[39m\u001B[38;5;124m_ms\u001B[39m\u001B[38;5;124m'\u001B[39m)] \u001B[38;5;241m=\u001B[39m df[col] \u001B[38;5;241m/\u001B[39m \u001B[38;5;241m1000\u001B[39m\n\u001B[1;32m     13\u001B[0m \u001B[38;5;66;03m# Convert bytes to megabytes\u001B[39;00m\n\u001B[1;32m     14\u001B[0m df[\u001B[38;5;124m'\u001B[39m\u001B[38;5;124msize_mb\u001B[39m\u001B[38;5;124m'\u001B[39m] \u001B[38;5;241m=\u001B[39m df[\u001B[38;5;124m'\u001B[39m\u001B[38;5;124msize_bytes\u001B[39m\u001B[38;5;124m'\u001B[39m] \u001B[38;5;241m/\u001B[39m (\u001B[38;5;241m1024\u001B[39m \u001B[38;5;241m*\u001B[39m \u001B[38;5;241m1024\u001B[39m)\n",
      "File \u001B[0;32m~/anaconda3/lib/python3.11/site-packages/pandas/core/frame.py:4102\u001B[0m, in \u001B[0;36mDataFrame.__getitem__\u001B[0;34m(self, key)\u001B[0m\n\u001B[1;32m   4100\u001B[0m \u001B[38;5;28;01mif\u001B[39;00m \u001B[38;5;28mself\u001B[39m\u001B[38;5;241m.\u001B[39mcolumns\u001B[38;5;241m.\u001B[39mnlevels \u001B[38;5;241m>\u001B[39m \u001B[38;5;241m1\u001B[39m:\n\u001B[1;32m   4101\u001B[0m     \u001B[38;5;28;01mreturn\u001B[39;00m \u001B[38;5;28mself\u001B[39m\u001B[38;5;241m.\u001B[39m_getitem_multilevel(key)\n\u001B[0;32m-> 4102\u001B[0m indexer \u001B[38;5;241m=\u001B[39m \u001B[38;5;28mself\u001B[39m\u001B[38;5;241m.\u001B[39mcolumns\u001B[38;5;241m.\u001B[39mget_loc(key)\n\u001B[1;32m   4103\u001B[0m \u001B[38;5;28;01mif\u001B[39;00m is_integer(indexer):\n\u001B[1;32m   4104\u001B[0m     indexer \u001B[38;5;241m=\u001B[39m [indexer]\n",
      "File \u001B[0;32m~/anaconda3/lib/python3.11/site-packages/pandas/core/indexes/base.py:3812\u001B[0m, in \u001B[0;36mIndex.get_loc\u001B[0;34m(self, key)\u001B[0m\n\u001B[1;32m   3807\u001B[0m     \u001B[38;5;28;01mif\u001B[39;00m \u001B[38;5;28misinstance\u001B[39m(casted_key, \u001B[38;5;28mslice\u001B[39m) \u001B[38;5;129;01mor\u001B[39;00m (\n\u001B[1;32m   3808\u001B[0m         \u001B[38;5;28misinstance\u001B[39m(casted_key, abc\u001B[38;5;241m.\u001B[39mIterable)\n\u001B[1;32m   3809\u001B[0m         \u001B[38;5;129;01mand\u001B[39;00m \u001B[38;5;28many\u001B[39m(\u001B[38;5;28misinstance\u001B[39m(x, \u001B[38;5;28mslice\u001B[39m) \u001B[38;5;28;01mfor\u001B[39;00m x \u001B[38;5;129;01min\u001B[39;00m casted_key)\n\u001B[1;32m   3810\u001B[0m     ):\n\u001B[1;32m   3811\u001B[0m         \u001B[38;5;28;01mraise\u001B[39;00m InvalidIndexError(key)\n\u001B[0;32m-> 3812\u001B[0m     \u001B[38;5;28;01mraise\u001B[39;00m \u001B[38;5;167;01mKeyError\u001B[39;00m(key) \u001B[38;5;28;01mfrom\u001B[39;00m \u001B[38;5;21;01merr\u001B[39;00m\n\u001B[1;32m   3813\u001B[0m \u001B[38;5;28;01mexcept\u001B[39;00m \u001B[38;5;167;01mTypeError\u001B[39;00m:\n\u001B[1;32m   3814\u001B[0m     \u001B[38;5;66;03m# If we have a listlike key, _check_indexing_error will raise\u001B[39;00m\n\u001B[1;32m   3815\u001B[0m     \u001B[38;5;66;03m#  InvalidIndexError. Otherwise we fall through and re-raise\u001B[39;00m\n\u001B[1;32m   3816\u001B[0m     \u001B[38;5;66;03m#  the TypeError.\u001B[39;00m\n\u001B[1;32m   3817\u001B[0m     \u001B[38;5;28mself\u001B[39m\u001B[38;5;241m.\u001B[39m_check_indexing_error(key)\n",
      "\u001B[0;31mKeyError\u001B[0m: 'total_decode_time_us'"
     ]
    }
   ],
   "execution_count": 15
  },
  {
   "cell_type": "code",
   "id": "e2fb09a3-6242-4df5-8dda-d4fbdfcfd24f",
   "metadata": {},
   "source": [
    "# Set up the plot style\n",
    "sns.set_style(\"whitegrid\")"
   ],
   "outputs": [],
   "execution_count": null
  },
  {
   "cell_type": "code",
   "id": "a0b102e5-24b4-4987-baba-c9842733600b",
   "metadata": {},
   "source": [
    "# Plot 1: Metadata decode time\n",
    "plt.figure(figsize=(12, 8))\n",
    "for stats in df['stats_level'].unique():\n",
    "    data = df[df['stats_level'] == stats]\n",
    "    plt.plot(data['num_columns'], data['total_decode_time_ms'], marker='o', label=stats)\n",
    "    for i, point in data.iterrows():\n",
    "        plt.annotate(f\"{point['total_decode_time_ms']:.2f}\", \n",
    "                     (point['num_columns'], point['total_decode_time_ms']),\n",
    "                     textcoords=\"offset points\", xytext=(0,10), ha='center')\n",
    "plt.xscale('log')\n",
    "plt.yscale('log')\n",
    "plt.xlabel('Number of columns')\n",
    "plt.ylabel('Metadata decode time (ms)')\n",
    "plt.title('Metadata decode time')\n",
    "plt.legend(title='Stats level')\n",
    "plt.tight_layout()\n",
    "plt.savefig('./metadata_decode_time.png')\n",
    "plt.close()\n",
    "\n",
    "Image(filename='./metadata_decode_time.png')"
   ],
   "outputs": [],
   "execution_count": null
  },
  {
   "cell_type": "markdown",
   "id": "d5ba6a0a-8953-47ec-95f5-5a059d9aba96",
   "metadata": {},
   "source": [
    "This plot shows the metadata decode time for different numbers of columns and statistics levels. It helps us understand how the metadata decode time scales with the number of columns and how different statistics levels impact the decode time."
   ]
  },
  {
   "cell_type": "code",
   "id": "172a699a-2da7-4545-9e3a-320c52a4f6eb",
   "metadata": {},
   "source": [
    "# Plot 2: Decode time breakdown\n",
    "plt.figure(figsize=(12, 8))\n",
    "df_melt = df.melt(id_vars=['num_columns', 'stats_level'], \n",
    "                  value_vars=['thrift_decode_time_ms', 'schema_build_time_ms'],\n",
    "                  var_name='decode_stage', value_name='time_ms')\n",
    "sns.barplot(x='num_columns', y='time_ms', hue='decode_stage', data=df_melt)\n",
    "plt.xlabel('Number of columns')\n",
    "plt.ylabel('Time (ms)')\n",
    "plt.title('Decode time breakdown')\n",
    "plt.yscale('log')\n",
    "plt.tight_layout()\n",
    "plt.savefig('./decode_time_breakdown.png')\n",
    "plt.close()\n",
    "\n",
    "Image(filename='./decode_time_breakdown.png')"
   ],
   "outputs": [],
   "execution_count": null
  },
  {
   "cell_type": "markdown",
   "id": "a06c8627-89be-4f7f-8091-f554ed77b5c9",
   "metadata": {},
   "source": [
    "This plot shows the breakdown of the decode time into Thrift decode time and schema build time for different numbers of columns. It helps us understand the relative contributions of Thrift decoding and schema building to the total decode time."
   ]
  },
  {
   "cell_type": "code",
   "id": "e3da33c5-b6ea-4382-85d7-9ef1be5f0910",
   "metadata": {
    "scrolled": true
   },
   "source": [
    "# Plot 3: Decode time per column\n",
    "plt.figure(figsize=(12, 8))\n",
    "df['time_per_column_ms'] = df['total_decode_time_ms'] / df['num_columns']\n",
    "sns.barplot(x='stats_level', y='time_per_column_ms', data=df)\n",
    "plt.xlabel('Stats level')\n",
    "plt.ylabel('Time per column (ms)')\n",
    "plt.title('Average decode time per column')\n",
    "for i, bar in enumerate(plt.gca().patches):\n",
    "    plt.annotate(f'{bar.get_height():.4f}', \n",
    "                 (bar.get_x() + bar.get_width()/2, bar.get_height()),\n",
    "                 ha='center', va='bottom', xytext=(0, 3),\n",
    "                 textcoords='offset points')\n",
    "plt.tight_layout()\n",
    "plt.savefig('./decode_time_per_column.png')\n",
    "plt.close()\n",
    "\n",
    "Image(filename='./decode_time_per_column.png')"
   ],
   "outputs": [],
   "execution_count": null
  },
  {
   "cell_type": "markdown",
   "id": "a91e23f8-3dd2-4ac3-90f4-b2360c87a7d4",
   "metadata": {},
   "source": [
    "This plot displays the average decode time per column for different statistics levels. It helps us understand how the decode time scales with the number of columns and how different statistics levels impact the decode time per column."
   ]
  },
  {
   "cell_type": "markdown",
   "id": "d191dd6c-4031-440c-a1e7-e70fd9b9c878",
   "metadata": {},
   "source": [
    "### Statistics"
   ]
  },
  {
   "cell_type": "markdown",
   "id": "b61659e6-1b2d-4f3a-96cf-bbb16c0823f9",
   "metadata": {},
   "source": [
    "In this benchmark, we focus on analyzing the impact of statistics on the performance of Parquet files. We measure the file size, total statistics decode time, and decode time per column for files with statistics enabled and disabled."
   ]
  },
  {
   "cell_type": "code",
   "id": "328db897-8eb5-4bfa-bbb0-6a0e0620a730",
   "metadata": {},
   "source": [
    "import pandas as pd\n",
    "import matplotlib.pyplot as plt\n",
    "import seaborn as sns\n",
    "\n",
    "# Run the compiled metadata benchmark\n",
    "os.system(\"../build/metadata_benchmark\")\n",
    "\n",
    "# Read the CSV file\n",
    "df = pd.read_csv('benchmark_stats.csv')\n",
    "\n",
    "# Convert microseconds to milliseconds\n",
    "df['stats_decode_time_ms'] = df['stats_decode_time_us'] / 1000\n",
    "\n",
    "# Convert bytes to megabytes\n",
    "df['size_mb'] = df['size_bytes'] / (1024 * 1024)\n",
    "\n",
    "df"
   ],
   "outputs": [],
   "execution_count": null
  },
  {
   "cell_type": "code",
   "id": "9b7d8f2b-9cb4-431e-9596-b78dab19709e",
   "metadata": {},
   "source": [
    "# Set up the plot style\n",
    "sns.set_style(\"whitegrid\")\n",
    "plt.rcParams['font.size'] = 12\n",
    "plt.rcParams['axes.labelsize'] = 14\n",
    "plt.rcParams['axes.titlesize'] = 16\n",
    "plt.rcParams['xtick.labelsize'] = 12\n",
    "plt.rcParams['ytick.labelsize'] = 12\n",
    "plt.rcParams['legend.fontsize'] = 12\n",
    "plt.rcParams['figure.titlesize'] = 20\n",
    "\n",
    "# Define colors for Stats Enabled and Disabled\n",
    "color_enabled = '#ff7f0e'  # Orange\n",
    "color_disabled = '#1f77b4'  # Blue\n",
    "palette = {True: color_enabled, False: color_disabled}"
   ],
   "outputs": [],
   "execution_count": null
  },
  {
   "cell_type": "code",
   "id": "2e48524d-ffb1-4793-960e-748f66a97fe6",
   "metadata": {},
   "source": [
    "# Plot 1: File size comparison\n",
    "plt.figure(figsize=(12, 8))\n",
    "ax = sns.barplot(x='num_columns', y='size_mb', hue='stats_enabled', data=df, palette=palette)\n",
    "plt.xlabel('Number of columns')\n",
    "plt.ylabel('File size (MB)')\n",
    "plt.title('File size comparison: Stats Enabled vs Disabled')\n",
    "handles, labels = ax.get_legend_handles_labels()\n",
    "plt.legend(handles=handles, labels=['Stats Disabled', 'Stats Enabled'])\n",
    "plt.yscale('log')  # Use log scale for y-axis\n",
    "for i, bar in enumerate(plt.gca().patches):\n",
    "    plt.annotate(f'{bar.get_height():.2f}', \n",
    "                 (bar.get_x() + bar.get_width()/2, bar.get_height()),\n",
    "                 ha='center', va='bottom', xytext=(0, 3),\n",
    "                 textcoords='offset points')\n",
    "plt.tight_layout()\n",
    "plt.savefig('./stats_file_size_comparison_log.png', dpi=300)\n",
    "plt.close()\n",
    "\n",
    "Image(filename='./stats_file_size_comparison_log.png')"
   ],
   "outputs": [],
   "execution_count": null
  },
  {
   "cell_type": "markdown",
   "id": "6086d7b0-bb66-47ea-9ad7-1c3e993f87c5",
   "metadata": {},
   "source": [
    "This plot compares the file sizes for Parquet files with statistics enabled and disabled. It helps us understand the impact of statistics on the file size and how it varies with the number of columns."
   ]
  },
  {
   "cell_type": "code",
   "id": "b3ec54ac-0ff9-46ad-935c-1ea1275b43b0",
   "metadata": {},
   "source": [
    "# Plot 2: Total statistics decode time\n",
    "plt.figure(figsize=(12, 8))\n",
    "ax = sns.barplot(x='num_columns', y='stats_decode_time_ms', hue='stats_enabled', data=df, palette=palette)\n",
    "plt.xlabel('Number of columns')\n",
    "plt.ylabel('Total decode time (ms)')\n",
    "plt.title('Total statistics decode time')\n",
    "handles, labels = ax.get_legend_handles_labels()\n",
    "plt.legend(handles=handles, labels=['Stats Disabled', 'Stats Enabled'])\n",
    "for i, bar in enumerate(plt.gca().patches):\n",
    "    plt.annotate(f'{bar.get_height():.2f}', \n",
    "                 (bar.get_x() + bar.get_width()/2, bar.get_height()),\n",
    "                 ha='center', va='bottom', xytext=(0, 3),\n",
    "                 textcoords='offset points')\n",
    "plt.tight_layout()\n",
    "plt.savefig('./stats_total_decode_time.png', dpi=300)\n",
    "plt.close()\n",
    "\n",
    "Image(filename='./stats_total_decode_time.png')"
   ],
   "outputs": [],
   "execution_count": null
  },
  {
   "cell_type": "markdown",
   "id": "193dc6e2-ed11-441f-a5d4-82ae55dc8e39",
   "metadata": {},
   "source": [
    "This plot shows the total statistics decode time for Parquet files with statistics enabled and disabled. It helps us understand the additional time required to decode statistics when they are present in the file."
   ]
  },
  {
   "cell_type": "code",
   "id": "e22e9082-49dd-4d47-b666-ba64a72c1f01",
   "metadata": {},
   "source": [
    "# Plot 3: Decode time per column (log-log scale)\n",
    "plt.figure(figsize=(12, 8))\n",
    "df['time_per_column_ms'] = df['stats_decode_time_ms'] / df['num_columns']\n",
    "handles = []\n",
    "labels = []\n",
    "for stats_enabled in df['stats_enabled'].unique():\n",
    "    data = df[df['stats_enabled'] == stats_enabled]\n",
    "    color = color_enabled if stats_enabled else color_disabled\n",
    "    label = 'Stats Enabled' if stats_enabled else 'Stats Disabled'\n",
    "    line, = plt.plot(data['num_columns'], data['time_per_column_ms'], marker='o', label=label, color=color)\n",
    "    handles.append(line)\n",
    "    labels.append(label)\n",
    "    for _, point in data.iterrows():\n",
    "        plt.annotate(f\"{point['time_per_column_ms']:.4f}\", \n",
    "                     (point['num_columns'], point['time_per_column_ms']),\n",
    "                     textcoords=\"offset points\", xytext=(0,10), ha='center')\n",
    "plt.xscale('log')\n",
    "plt.yscale('log')\n",
    "plt.xlabel('Number of columns')\n",
    "plt.ylabel('Time per column (ms)')\n",
    "plt.title('Average statistics decode time per column (log-log scale)')\n",
    "plt.legend(handles=handles, labels=labels)\n",
    "plt.tight_layout()\n",
    "plt.savefig('./stats_decode_time_per_column_log.png', dpi=300)\n",
    "plt.close()\n",
    "\n",
    "Image(filename='./stats_decode_time_per_column_log.png')"
   ],
   "outputs": [],
   "execution_count": null
  },
  {
   "cell_type": "markdown",
   "id": "763db046-f5b8-4374-a010-404beda37be7",
   "metadata": {},
   "source": [
    "This plot displays the average statistics decode time per column on a log-log scale. It helps us understand how the decode time per column scales with the number of columns and how the presence of statistics affects the decode time per column."
   ]
  },
  {
   "cell_type": "markdown",
   "id": "7831a766-f3f0-42d0-a87a-3081a82f0c62",
   "metadata": {},
   "source": [
    "## Compression Algorithms"
   ]
  },
  {
   "cell_type": "markdown",
   "id": "913cf21f-1baf-4858-877c-bebf1a6e9d6d",
   "metadata": {},
   "source": [
    "The following benchmarks provide valuable insights into the performance characteristics of different compression algorithms in terms of encoding time, decoding time, and compressed size. They help us make informed decisions when selecting compression algorithms based on the specific requirements of our dataset and the trade-offs between compression ratio and processing time."
   ]
  },
  {
   "cell_type": "code",
   "id": "3f5b5750-2c49-4947-acbf-907f6dd9b337",
   "metadata": {},
   "source": [
    "import os\n",
    "from IPython.display import Image\n",
    "import pandas as pd\n",
    "import matplotlib.pyplot as plt\n",
    "import seaborn as sns\n",
    "import glob\n",
    "\n",
    "# Compile and run the C++ benchmark program\n",
    "os.system(\"../build/compression_benchmark\")"
   ],
   "outputs": [],
   "execution_count": null
  },
  {
   "cell_type": "code",
   "id": "fa9d05f0-477c-4654-b356-71f43eaf60aa",
   "metadata": {},
   "source": [
    "# Read all CSV files\n",
    "csv_files = glob.glob('compression_benchmark_*_compression_benchmark.csv')\n",
    "dfs = [pd.read_csv(f) for f in csv_files]\n",
    "df = pd.concat(dfs, ignore_index=True)\n",
    "\n",
    "# Map algorithm numbers to names\n",
    "algo_map = {0: 'Uncompressed', 1: 'Snappy', 2: 'Gzip', 3: 'Brotli', 4: 'Zstd'}\n",
    "df['algorithm'] = df['algorithm'].map(algo_map)\n",
    "\n",
    "df"
   ],
   "outputs": [],
   "execution_count": null
  },
  {
   "cell_type": "code",
   "id": "fcd6192d-83e5-4afc-b981-cdf80b4255cc",
   "metadata": {},
   "source": [
    "# Set up the plot style\n",
    "sns.set_style(\"whitegrid\")"
   ],
   "outputs": [],
   "execution_count": null
  },
  {
   "cell_type": "code",
   "id": "faa41fcb-0f0c-4a82-a7e7-5bc9f9257301",
   "metadata": {},
   "source": [
    "# Plot 1: Encoding time\n",
    "plt.figure(figsize=(15, 10))\n",
    "sns.barplot(x='num_columns', y='encoding_time_ms', hue='algorithm', data=df)\n",
    "plt.title('Encoding Time by Compression Algorithm and Number of Columns')\n",
    "plt.ylabel('Encoding Time (ms)')\n",
    "plt.xlabel('Number of Columns')\n",
    "plt.yscale('log')\n",
    "plt.legend(title='Algorithm')\n",
    "plt.tight_layout()\n",
    "plt.savefig('./encoding_time.png')\n",
    "plt.show()\n",
    "plt.close()"
   ],
   "outputs": [],
   "execution_count": null
  },
  {
   "cell_type": "markdown",
   "id": "6c78c203-4969-4b0c-b904-05462d8a7e1a",
   "metadata": {},
   "source": [
    "The plot visualizes the encoding time for different compression algorithms and varying numbers of columns. It shows the encoding time in milliseconds on the y-axis and the number of columns on the x-axis. The hue parameter is used to distinguish between different compression algorithms.\n"
   ]
  },
  {
   "cell_type": "code",
   "id": "ee103300-c50e-4dc8-af47-30f544dc42ca",
   "metadata": {},
   "source": [
    "# Plot 2: Decoding time\n",
    "plt.figure(figsize=(15, 10))\n",
    "sns.barplot(x='num_columns', y='decoding_time_ms', hue='algorithm', data=df)\n",
    "plt.title('Decoding Time by Compression Algorithm and Number of Columns')\n",
    "plt.ylabel('Decoding Time (ms)')\n",
    "plt.xlabel('Number of Columns')\n",
    "plt.yscale('log')\n",
    "plt.legend(title='Algorithm')\n",
    "plt.tight_layout()\n",
    "plt.savefig('./decoding_time.png')\n",
    "plt.show()\n",
    "plt.close()"
   ],
   "outputs": [],
   "execution_count": null
  },
  {
   "cell_type": "markdown",
   "id": "1d10f516-c335-4a23-8fe1-3010921c8439",
   "metadata": {},
   "source": [
    "This plot provides insights into how the decoding time changes across different compression algorithms and how it is influenced by the number of columns in the dataset. The logarithmic scale on the y-axis allows for a clear comparison of decoding times across a wide range of values."
   ]
  },
  {
   "cell_type": "code",
   "id": "b613b262-734e-4b27-9a68-78fb17792860",
   "metadata": {},
   "source": [
    "# Plot 3: Compressed size\n",
    "plt.figure(figsize=(15, 10))\n",
    "sns.barplot(x='num_columns', y='compressed_size_mb', hue='algorithm', data=df)\n",
    "plt.title('Compressed Size by Compression Algorithm and Number of Columns')\n",
    "plt.ylabel('Compressed Size (MB)')\n",
    "plt.xlabel('Number of Columns')\n",
    "plt.yscale('log')\n",
    "plt.legend(title='Algorithm')\n",
    "plt.tight_layout()\n",
    "plt.savefig('./compressed_size.png')\n",
    "plt.show()\n",
    "plt.close()"
   ],
   "outputs": [],
   "execution_count": null
  },
  {
   "cell_type": "markdown",
   "id": "217f610d-5f15-4c65-a857-4301e851adb8",
   "metadata": {},
   "source": [
    "This plot helps us understand how the compressed size varies across different compression algorithms and how it is affected by the number of columns in the dataset. By using a logarithmic scale for the y-axis, it allows us to compare the compressed sizes across a wide range of values."
   ]
  },
  {
   "metadata": {},
   "cell_type": "markdown",
   "source": "#### References",
   "id": "c977d59d27217697"
  },
  {
   "metadata": {},
   "cell_type": "markdown",
   "source": [
    "Major ideas were drawn from discussions by the community on [Parquet Metadata evolution](https://docs.google.com/document/d/1PQpY418LkIDHMFYCY8ne_G-CFpThK15LLpzWYbc7rFU/edit).\n",
    "\n",
    "The inspiration for this came from the article: [How Good is Parquet for Wide Tables Really?](https://www.influxdata.com/blog/how-good-parquet-wide-tables)"
   ],
   "id": "741879634cc51e13"
  }
 ],
 "metadata": {
  "kernelspec": {
   "display_name": "Python 3 (ipykernel)",
   "language": "python",
   "name": "python3"
  },
  "language_info": {
   "codemirror_mode": {
    "name": "ipython",
    "version": 3
   },
   "file_extension": ".py",
   "mimetype": "text/x-python",
   "name": "python",
   "nbconvert_exporter": "python",
   "pygments_lexer": "ipython3",
   "version": "3.11.7"
  }
 },
 "nbformat": 4,
 "nbformat_minor": 5
}
